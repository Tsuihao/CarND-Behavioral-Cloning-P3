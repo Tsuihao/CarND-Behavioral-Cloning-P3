{
 "cells": [
  {
   "cell_type": "code",
   "execution_count": 15,
   "metadata": {},
   "outputs": [],
   "source": [
    "from src.preprocess import get_train_data_from_sim_data"
   ]
  },
  {
   "cell_type": "code",
   "execution_count": 16,
   "metadata": {},
   "outputs": [
    {
     "name": "stdout",
     "output_type": "stream",
     "text": [
      "The autoreload extension is already loaded. To reload it, use:\n",
      "  %reload_ext autoreload\n"
     ]
    }
   ],
   "source": [
    "%load_ext autoreload\n",
    "%autoreload 2"
   ]
  },
  {
   "cell_type": "code",
   "execution_count": 24,
   "metadata": {},
   "outputs": [],
   "source": [
    "csv_file = '../sim_data/driving_log.csv'\n",
    "image_file = '../sim_data/IMG/'\n",
    "X_train, y_train = get_train_data_from_sim_data(csv_file, image_file)"
   ]
  },
  {
   "cell_type": "code",
   "execution_count": 26,
   "metadata": {},
   "outputs": [],
   "source": [
    "from keras.models import Sequential\n",
    "from keras.layers import Flatten, Dense"
   ]
  },
  {
   "cell_type": "code",
   "execution_count": 27,
   "metadata": {},
   "outputs": [],
   "source": [
    "model = Sequential()\n",
    "model.add(Flatten(input_shape=(160, 320, 3)))\n",
    "model.add(Dense(1))"
   ]
  },
  {
   "cell_type": "code",
   "execution_count": 28,
   "metadata": {},
   "outputs": [
    {
     "name": "stderr",
     "output_type": "stream",
     "text": [
      "D:\\Anaconda3\\lib\\site-packages\\keras\\models.py:848: UserWarning: The `nb_epoch` argument in `fit` has been renamed `epochs`.\n",
      "  warnings.warn('The `nb_epoch` argument in `fit` '\n"
     ]
    },
    {
     "name": "stdout",
     "output_type": "stream",
     "text": [
      "Train on 1797 samples, validate on 450 samples\n",
      "Epoch 1/7\n",
      "1797/1797 [==============================] - 3s - loss: 20566319.5301 - val_loss: 941221.4139\n",
      "Epoch 2/7\n",
      "1797/1797 [==============================] - 1s - loss: 106703.1518 - val_loss: 19554.3083\n",
      "Epoch 3/7\n",
      "1797/1797 [==============================] - 1s - loss: 10836.4006 - val_loss: 5556.2954\n",
      "Epoch 4/7\n",
      "1797/1797 [==============================] - 1s - loss: 5795.6598 - val_loss: 3881.1339\n",
      "Epoch 5/7\n",
      "1797/1797 [==============================] - 1s - loss: 4871.8687 - val_loss: 3007.9905\n",
      "Epoch 6/7\n",
      "1797/1797 [==============================] - 1s - loss: 3434.9294 - val_loss: 2747.5266\n",
      "Epoch 7/7\n",
      "1797/1797 [==============================] - 1s - loss: 3324.7633 - val_loss: 3251.3775\n"
     ]
    }
   ],
   "source": [
    "model.compile(loss='mse', optimizer='adam')\n",
    "model.fit(X_train, y_train, validation_split=0.2, shuffle=True, nb_epoch=7)\n",
    "model.save('model.h5')"
   ]
  },
  {
   "cell_type": "code",
   "execution_count": null,
   "metadata": {},
   "outputs": [],
   "source": []
  }
 ],
 "metadata": {
  "kernelspec": {
   "display_name": "Python [conda root]",
   "language": "python",
   "name": "conda-root-py"
  },
  "language_info": {
   "codemirror_mode": {
    "name": "ipython",
    "version": 3
   },
   "file_extension": ".py",
   "mimetype": "text/x-python",
   "name": "python",
   "nbconvert_exporter": "python",
   "pygments_lexer": "ipython3",
   "version": "3.6.2"
  }
 },
 "nbformat": 4,
 "nbformat_minor": 2
}
