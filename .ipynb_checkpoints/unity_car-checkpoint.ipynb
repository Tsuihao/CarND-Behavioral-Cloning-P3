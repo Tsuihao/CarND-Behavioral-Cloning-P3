{
 "cells": [
  {
   "cell_type": "code",
   "execution_count": 1,
   "metadata": {},
   "outputs": [],
   "source": [
    "import os\n",
    "import csv\n",
    "%load_ext autoreload\n",
    "%autoreload 2"
   ]
  },
  {
   "cell_type": "markdown",
   "metadata": {},
   "source": [
    "## Preprocessing"
   ]
  },
  {
   "cell_type": "code",
   "execution_count": 2,
   "metadata": {},
   "outputs": [],
   "source": [
    "samples = []\n",
    "with open(\"..\\sim_data\\driving_log.csv\") as csvfile:\n",
    "    reader = csv.reader(csvfile)\n",
    "    for line in reader:\n",
    "        samples.append(line)"
   ]
  },
  {
   "cell_type": "code",
   "execution_count": 3,
   "metadata": {},
   "outputs": [],
   "source": [
    "from sklearn.model_selection import train_test_split\n",
    "train_samples, valid_samples = train_test_split(samples, test_size=0.2)"
   ]
  },
  {
   "cell_type": "code",
   "execution_count": 4,
   "metadata": {},
   "outputs": [
    {
     "name": "stderr",
     "output_type": "stream",
     "text": [
      "Using TensorFlow backend.\n"
     ]
    }
   ],
   "source": [
    "import cv2\n",
    "import numpy as np\n",
    "import sklearn\n",
    "import keras"
   ]
  },
  {
   "cell_type": "code",
   "execution_count": 5,
   "metadata": {},
   "outputs": [],
   "source": [
    "image_path = 'D:/udacity/sim_data/IMG/'\n",
    "correction = 0.2 # steering_angle correction"
   ]
  },
  {
   "cell_type": "code",
   "execution_count": 6,
   "metadata": {},
   "outputs": [],
   "source": [
    "class DataGenerator(keras.utils.Sequence): # inherit from Sequence to multi-core processing.\n",
    "    \n",
    "    def __init__(self, samples, batch_size=24): # 32 has OOM for my GPU\n",
    "        self.samples = samples\n",
    "        self.batch_size = batch_size\n",
    "    \n",
    "    def __len__(self):\n",
    "        # return number of batches\n",
    "        return int(np.floor(len(self.samples)/ self.batch_size))\n",
    "    \n",
    "    def generate(self):\n",
    "\n",
    "        while True: # loop forever.\n",
    "            sklearn.utils.shuffle(self.samples)\n",
    "            nb_samples = len(self.samples)\n",
    "            for offset in range(0, nb_samples, self.batch_size):\n",
    "                end = offset + self.batch_size\n",
    "                batch_samples = self.samples[offset:end]\n",
    "\n",
    "                images = []\n",
    "                steering_angles = []\n",
    "\n",
    "                for sample in batch_samples:\n",
    "                    steering_angle = float(sample[3]) \n",
    "                    for i in range(3): \n",
    "                        source_path = sample[i]\n",
    "                        filename = source_path.split('\\\\')[-1] # windows\n",
    "                        current_path = image_path + filename\n",
    "                        image = cv2.imread(current_path)\n",
    "                        images.append(image)\n",
    "\n",
    "                        #Seperate the steering_angle\n",
    "                        if(i == 0): # center\n",
    "                            steering_angles.append(steering_angle)\n",
    "                        if(i == 1): # left\n",
    "                            steering_angles.append(steering_angle + correction)\n",
    "                        if(i == 2): # right\n",
    "                            steering_angles.append(steering_angle - correction)\n",
    "\n",
    "                augmented_images = []\n",
    "                augmented_steering_angles= []\n",
    "                # Data augmentation with mirroring images\n",
    "                for image, steering_angle in zip(images, steering_angles):\n",
    "                    augmented_images.append(image)\n",
    "                    augmented_steering_angles.append(steering_angle)\n",
    "                    # Mirroring\n",
    "                    augmented_images.append(cv2.flip(image, 1))\n",
    "                    augmented_steering_angles.append(-1 * steering_angle)\n",
    "\n",
    "                X_train = np.array(augmented_images)\n",
    "                y_train = np.array(augmented_steering_angles)\n",
    "\n",
    "                #X_train = np.array(images)\n",
    "                #y_train = np.array(steering_angles)\n",
    "\n",
    "                yield sklearn.utils.shuffle(X_train, y_train)"
   ]
  },
  {
   "cell_type": "code",
   "execution_count": 7,
   "metadata": {},
   "outputs": [],
   "source": [
    "trainDataGenerator = DataGenerator(train_samples)\n",
    "validDataGenerator = DataGenerator(valid_samples)"
   ]
  },
  {
   "cell_type": "code",
   "execution_count": 8,
   "metadata": {},
   "outputs": [],
   "source": [
    "train_generator = trainDataGenerator.generate()\n",
    "valid_generator = validDataGenerator.generate()"
   ]
  },
  {
   "cell_type": "markdown",
   "metadata": {},
   "source": [
    "## Model"
   ]
  },
  {
   "cell_type": "code",
   "execution_count": 9,
   "metadata": {},
   "outputs": [],
   "source": [
    "from keras.models import Sequential\n",
    "from keras.layers import Flatten, Dense, Lambda, Cropping2D\n",
    "from keras.layers import Conv2D, MaxPooling2D"
   ]
  },
  {
   "cell_type": "code",
   "execution_count": 10,
   "metadata": {},
   "outputs": [],
   "source": [
    "model = Sequential()\n",
    "model.add(Cropping2D(cropping=((70,25), (0,0)), input_shape=(160,320,3)))\n",
    "model.add(Lambda(lambda x: x/255.0 - 0.5)) # preprocessing  160x320x3\n",
    "model.add(Conv2D(filters=6, kernel_size=[5,5], strides=[1,1], padding='same', activation='relu'))  #160x320x6\n",
    "model.add(MaxPooling2D(pool_size=[2,2], strides=None, padding='same')) # 80 x160x6\n",
    "model.add(Conv2D(filters=16, kernel_size=[5,5], strides=[1,1], padding='same', activation='relu')) #80x160x16\n",
    "model.add(MaxPooling2D(pool_size=[2,2], strides=None, padding='same')) # 40x 80 x16 \n",
    "model.add(Conv2D(filters=32, kernel_size=[5,5], strides=[1,1], padding='same', activation='relu')) #40x80x32\n",
    "model.add(MaxPooling2D(pool_size=[2,2], strides=None, padding='same')) # 20x 40 x32\n",
    "model.add(Conv2D(filters=64, kernel_size=[5,5], strides=[1,1], padding='same', activation='relu')) #20x40x64\n",
    "model.add(MaxPooling2D(pool_size=[2,2], strides=None, padding='same')) # 10x 20 x64\n",
    "model.add(Flatten()) # 12800\n",
    "model.add(Dense(2480, activation='relu'))\n",
    "model.add(Dense(516, activation='relu'))\n",
    "model.add(Dense(1))"
   ]
  },
  {
   "cell_type": "code",
   "execution_count": 11,
   "metadata": {},
   "outputs": [
    {
     "name": "stdout",
     "output_type": "stream",
     "text": [
      "Epoch 1/3\n",
      "1797/1797 [==============================] - 648s - loss: 0.0272 - val_loss: 0.0252\n",
      "Epoch 2/3\n",
      "1797/1797 [==============================] - 616s - loss: 0.0093 - val_loss: 0.0224\n",
      "Epoch 3/3\n",
      "1797/1797 [==============================] - 615s - loss: 0.0039 - val_loss: 0.0225\n"
     ]
    }
   ],
   "source": [
    "model.compile(loss='mse', optimizer='adam')\n",
    "history_object = model.fit_generator(train_generator, steps_per_epoch= len(train_samples),\n",
    "                              validation_data=valid_generator, validation_steps=len(valid_samples),\n",
    "                              epochs=3, verbose=1)\n",
    "model.save('model.h5')"
   ]
  },
  {
   "cell_type": "code",
   "execution_count": 12,
   "metadata": {},
   "outputs": [
    {
     "name": "stdout",
     "output_type": "stream",
     "text": [
      "dict_keys(['val_loss', 'loss'])\n"
     ]
    },
    {
     "data": {
      "image/png": "[encoded data removed]",
      "text/plain": [
       "<matplotlib.figure.Figure at 0x21763710>"
      ]
     },
     "metadata": {},
     "output_type": "display_data"
    }
   ],
   "source": [
    "import matplotlib.pyplot as plt\n",
    "### print the keys contained in the history object\n",
    "print(history_object.history.keys())\n",
    "\n",
    "### plot the training and validation loss for each epoch\n",
    "plt.plot(history_object.history['loss'])\n",
    "plt.plot(history_object.history['val_loss'])\n",
    "plt.title('model mean squared error loss')\n",
    "plt.ylabel('mean squared error loss')\n",
    "plt.xlabel('epoch')\n",
    "plt.legend(['training set', 'validation set'], loc='upper right')\n",
    "plt.show()"
   ]
  },
  {
   "cell_type": "code",
   "execution_count": null,
   "metadata": {},
   "outputs": [],
   "source": []
  }
 ],
 "metadata": {
  "kernelspec": {
   "display_name": "Python [conda root]",
   "language": "python",
   "name": "conda-root-py"
  },
  "language_info": {
   "codemirror_mode": {
    "name": "ipython",
    "version": 3
   },
   "file_extension": ".py",
   "mimetype": "text/x-python",
   "name": "python",
   "nbconvert_exporter": "python",
   "pygments_lexer": "ipython3",
   "version": "3.6.2"
  }
 },
 "nbformat": 4,
 "nbformat_minor": 2
}
