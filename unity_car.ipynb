{
 "cells": [
  {
   "cell_type": "code",
   "execution_count": 6,
   "metadata": {},
   "outputs": [],
   "source": [
    "from src.preprocess import get_train_data_from_sim_data"
   ]
  },
  {
   "cell_type": "code",
   "execution_count": 7,
   "metadata": {},
   "outputs": [
    {
     "name": "stdout",
     "output_type": "stream",
     "text": [
      "The autoreload extension is already loaded. To reload it, use:\n",
      "  %reload_ext autoreload\n"
     ]
    }
   ],
   "source": [
    "%load_ext autoreload\n",
    "%autoreload 2"
   ]
  },
  {
   "cell_type": "code",
   "execution_count": 8,
   "metadata": {},
   "outputs": [],
   "source": [
    "csv_file = '../sim_data_2/driving_log.csv'\n",
    "image_file = '../sim_data_2/IMG/'\n",
    "X_train, y_train = get_train_data_from_sim_data(csv_file, image_file)"
   ]
  },
  {
   "cell_type": "code",
   "execution_count": 9,
   "metadata": {},
   "outputs": [
    {
     "name": "stderr",
     "output_type": "stream",
     "text": [
      "Using TensorFlow backend.\n"
     ]
    }
   ],
   "source": [
    "from keras.models import Sequential\n",
    "from keras.layers import Flatten, Dense, Lambda, Cropping2D\n",
    "from keras.layers import Conv2D, MaxPooling2D"
   ]
  },
  {
   "cell_type": "code",
   "execution_count": null,
   "metadata": {},
   "outputs": [],
   "source": [
    "model = Sequential()\n",
    "model.add(Lambda(lambda x: x/255.0 - 0.5, input_shape=(160,320,3))) # preprocessing  160x320x3\n",
    "model.add(Cropping2D(cropping=((70,25), (0,0))))\n",
    "model.add(Conv2D(filters=6, kernel_size=[5,5], strides=[1,1], padding='same', activation='relu'))  #160x320x6\n",
    "model.add(MaxPooling2D(pool_size=[2,2], strides=None, padding='same')) # 80 x160x6\n",
    "model.add(Conv2D(filters=16, kernel_size=[5,5], strides=[1,1], padding='same', activation='relu')) #80 x160x16\n",
    "model.add(MaxPooling2D(pool_size=[2,2], strides=None, padding='same')) # 40x 80 x16 \n",
    "model.add(Conv2D(filters=32, kernel_size=[5,5], strides=[1,1], padding='same', activation='relu')) #40x 80x32\n",
    "model.add(MaxPooling2D(pool_size=[2,2], strides=None, padding='same')) # 20x 40 x32\n",
    "model.add(Conv2D(filters=64, kernel_size=[5,5], strides=[1,1], padding='same', activation='relu')) #20x 40x64\n",
    "model.add(MaxPooling2D(pool_size=[2,2], strides=None, padding='same')) # 10x 20 x64\n",
    "model.add(Flatten()) # 12800\n",
    "model.add(Dense(2480, activation='relu'))\n",
    "model.add(Dense(516, activation='relu'))\n",
    "model.add(Dense(1))"
   ]
  },
  {
   "cell_type": "code",
   "execution_count": null,
   "metadata": {},
   "outputs": [
    {
     "name": "stderr",
     "output_type": "stream",
     "text": [
      "D:\\Anaconda3\\lib\\site-packages\\keras\\models.py:848: UserWarning: The `nb_epoch` argument in `fit` has been renamed `epochs`.\n",
      "  warnings.warn('The `nb_epoch` argument in `fit` '\n"
     ]
    },
    {
     "name": "stdout",
     "output_type": "stream",
     "text": [
      "Train on 7665 samples, validate on 1917 samples\n",
      "Epoch 1/7\n",
      "7665/7665 [==============================] - 61s - loss: 0.1191 - val_loss: 0.1109\n",
      "Epoch 2/7\n",
      "7665/7665 [==============================] - 52s - loss: 0.0838 - val_loss: 0.1092\n",
      "Epoch 3/7\n",
      "7665/7665 [==============================] - 53s - loss: 0.0754 - val_loss: 0.1282\n",
      "Epoch 4/7\n",
      "7665/7665 [==============================] - 52s - loss: 0.0663 - val_loss: 0.1348\n",
      "Epoch 5/7\n",
      "7665/7665 [==============================] - 53s - loss: 0.0571 - val_loss: 0.1485\n",
      "Epoch 6/7\n",
      "5984/7665 [======================>.......] - ETA: 11s - loss: 0.0480"
     ]
    }
   ],
   "source": [
    "model.compile(loss='mse', optimizer='adam')\n",
    "model.fit(X_train, y_train,batch_size=16 ,validation_split=0.2, shuffle=True, nb_epoch=7)\n",
    "model.save('model.h5')"
   ]
  },
  {
   "cell_type": "code",
   "execution_count": null,
   "metadata": {},
   "outputs": [],
   "source": []
  },
  {
   "cell_type": "code",
   "execution_count": null,
   "metadata": {},
   "outputs": [],
   "source": []
  }
 ],
 "metadata": {
  "kernelspec": {
   "display_name": "Python [conda root]",
   "language": "python",
   "name": "conda-root-py"
  },
  "language_info": {
   "codemirror_mode": {
    "name": "ipython",
    "version": 3
   },
   "file_extension": ".py",
   "mimetype": "text/x-python",
   "name": "python",
   "nbconvert_exporter": "python",
   "pygments_lexer": "ipython3",
   "version": "3.6.2"
  }
 },
 "nbformat": 4,
 "nbformat_minor": 2
}
